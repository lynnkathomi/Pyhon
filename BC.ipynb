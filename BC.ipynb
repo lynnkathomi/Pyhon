{
  "nbformat": 4,
  "nbformat_minor": 0,
  "metadata": {
    "colab": {
      "provenance": [],
      "authorship_tag": "ABX9TyPLHlfrT1qLQ1rZD9s9Mmo+",
      "include_colab_link": true
    },
    "kernelspec": {
      "name": "python3",
      "display_name": "Python 3"
    },
    "language_info": {
      "name": "python"
    }
  },
  "cells": [
    {
      "cell_type": "markdown",
      "metadata": {
        "id": "view-in-github",
        "colab_type": "text"
      },
      "source": [
        "<a href=\"https://colab.research.google.com/github/lynnkathomi/Python/blob/master/BC.ipynb\" target=\"_parent\"><img src=\"https://colab.research.google.com/assets/colab-badge.svg\" alt=\"Open In Colab\"/></a>"
      ]
    },
    {
      "cell_type": "code",
      "execution_count": 1,
      "metadata": {
        "colab": {
          "base_uri": "https://localhost:8080/"
        },
        "id": "steYRzJlUkh_",
        "outputId": "acedf0f8-a8b9-4728-d529-681c6ee8a69d"
      },
      "outputs": [
        {
          "output_type": "stream",
          "name": "stdout",
          "text": [
            "Genesis block:  [{'index': 1, 'timestamp': 1727946029.419131, 'transactions': [], 'proof': 100, 'previous_hash': 'The Times 03/Jan/2009 Chancellor on brink of second bailout for banks.'}, {'index': 2, 'timestamp': 1727946029.4193525, 'transactions': [{'sender': 'Satoshi', 'recipient': 'Alex', 'amount': '10 BTC'}, {'sender': 'Alex', 'recipient': 'Satoshi', 'amount': '2 BTC'}, {'sender': 'Satoshi', 'recipient': 'James', 'amount': '10 BTC'}], 'proof': 10123, 'previous_hash': '9c9a66e419bfe8084f040d01d5734a5c89709ff6fd2861b41803e6444f10a806'}, {'index': 3, 'timestamp': 1727946029.4196017, 'transactions': [{'sender': 'Alex', 'recipient': 'Lucy', 'amount': '2 BTC'}, {'sender': 'Lucy', 'recipient': 'Justin', 'amount': '1 BTC'}, {'sender': 'Justin', 'recipient': 'Alex', 'amount': '1 BTC'}], 'proof': 10384, 'previous_hash': '1b424187933a877f10ac42a8ba6cd0247082bf6d37e529df610f249b88260dd7'}]\n"
          ]
        }
      ],
      "source": [
        "# Importing the required library for SHA256 hashing\n",
        "import hashlib\n",
        "\n",
        "# Importing the JSON library for working with JSON objects\n",
        "import json\n",
        "\n",
        "# Importing the 'time' module to get the current timestamp\n",
        "from time import time\n",
        "\n",
        "# Creating the Block_chain class that represents the blockchain\n",
        "class Block_chain(object):\n",
        "    # Constructor to initialize the blockchain and pending transactions\n",
        "    def __init__(self):\n",
        "        # List to store all blocks in the blockchain\n",
        "        self.chain = []\n",
        "\n",
        "        # List to store all pending transactions until they are added to a block\n",
        "        self.pendingTransactions = []\n",
        "\n",
        "        # Creating the genesis (first) block with an initial hash and proof\n",
        "        self.newBlock(previousHash=\"The Times 03/Jan/2009 Chancellor on brink of second bailout for banks.\", the_proof=100)\n",
        "\n",
        "    # Method to create a new block and add it to the chain\n",
        "    def newBlock(self, the_proof, previousHash=None):\n",
        "        # Creating a dictionary with block details: index, timestamp, transactions, proof, and previous hash\n",
        "        the_block = {\n",
        "            'index': len(self.chain) + 1,  # Block index is the length of the chain + 1\n",
        "            'timestamp': time(),  # Current timestamp of block creation\n",
        "            'transactions': self.pendingTransactions,  # List of all pending transactions\n",
        "            'proof': the_proof,  # Proof of work for this block\n",
        "            'previous_hash': previousHash or self.hash(self.chain[-1]),  # Hash of the previous block, or default if it's the genesis block\n",
        "        }\n",
        "\n",
        "        # Resetting the list of pending transactions after adding them to the block\n",
        "        self.pendingTransactions = []\n",
        "\n",
        "        # Adding the newly created block to the blockchain\n",
        "        self.chain.append(the_block)\n",
        "\n",
        "        # Returning the new block for reference\n",
        "        return the_block\n",
        "\n",
        "    # Property to get the most recent block in the chain (the last block)\n",
        "    @property\n",
        "    def lastBlock(self):\n",
        "        # Returning the last block in the chain list\n",
        "        return self.chain[-1]\n",
        "\n",
        "    # Method to add a new transaction to the list of pending transactions\n",
        "    def newTransaction(self, the_sender, the_recipient, the_amount):\n",
        "        # Creating a dictionary for the transaction with sender, recipient, and amount\n",
        "        the_transaction = {\n",
        "            'sender': the_sender,  # Address of the transaction sender\n",
        "            'recipient': the_recipient,  # Address of the transaction recipient\n",
        "            'amount': the_amount  # Amount to be transferred\n",
        "        }\n",
        "\n",
        "        # Adding the transaction to the list of pending transactions\n",
        "        self.pendingTransactions.append(the_transaction)\n",
        "\n",
        "        # Returning the index of the next block that will contain this transaction\n",
        "        return self.lastBlock['index'] + 1\n",
        "\n",
        "    # Method to create a SHA256 hash of a given block\n",
        "    def hash(self, the_block):\n",
        "        # Converting the block dictionary into a JSON string, ensuring the keys are sorted\n",
        "        stringObject = json.dumps(the_block, sort_keys=True)\n",
        "\n",
        "        # Encoding the JSON string into bytes\n",
        "        blockString = stringObject.encode()\n",
        "\n",
        "        # Creating the SHA256 hash of the encoded string\n",
        "        rawHash = hashlib.sha256(blockString)\n",
        "\n",
        "        # Converting the raw hash into a hexadecimal string\n",
        "        hexHash = rawHash.hexdigest()\n",
        "\n",
        "        # Returning the resulting hash string\n",
        "        return hexHash\n",
        "\n",
        "# Creating a blockchain object\n",
        "block_chain = Block_chain()\n",
        "\n",
        "# Adding a transaction from Satoshi to Alex for 10 BTC\n",
        "transaction1 = block_chain.newTransaction(\"Satoshi\", \"Alex\", '10 BTC')\n",
        "\n",
        "# Adding a transaction from Alex to Satoshi for 2 BTC\n",
        "transaction2 = block_chain.newTransaction(\"Alex\", \"Satoshi\", '2 BTC')\n",
        "\n",
        "# Adding a transaction from Satoshi to James for 10 BTC\n",
        "transaction3 = block_chain.newTransaction(\"Satoshi\", \"James\", '10 BTC')\n",
        "\n",
        "# Creating a new block to add these transactions to the blockchain with a proof of 10123\n",
        "block_chain.newBlock(10123)\n",
        "\n",
        "# Adding a transaction from Alex to Lucy for 2 BTC\n",
        "transaction4 = block_chain.newTransaction(\"Alex\", \"Lucy\", '2 BTC')\n",
        "\n",
        "# Adding a transaction from Lucy to Justin for 1 BTC\n",
        "transaction5 = block_chain.newTransaction(\"Lucy\", \"Justin\", '1 BTC')\n",
        "\n",
        "# Adding a transaction from Justin to Alex for 1 BTC\n",
        "transaction6 = block_chain.newTransaction(\"Justin\", \"Alex\", '1 BTC')\n",
        "\n",
        "# Creating another new block to add these transactions to the blockchain with a proof of 10384\n",
        "block_chain.newBlock(10384)\n",
        "\n",
        "# Printing the entire blockchain to view the genesis block and subsequent blocks\n",
        "print(\"Genesis block: \", block_chain.chain)\n"
      ]
    }
  ]
}